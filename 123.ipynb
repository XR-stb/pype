{
 "cells": [
  {
   "cell_type": "code",
   "execution_count": null,
   "metadata": {},
   "outputs": [],
   "source": [
    "import requests\n",
    "\n",
    "url = 'http://127.0.0.1:7433/pype/'\n",
    "\n",
    "def run(code, mode='eval'):\n",
    "    assert mode in ['eval', 'exec']\n",
    "    resp = requests.post(url+mode, data=code, timeout=2)\n",
    "    if resp.status_code == 200:\n",
    "        return resp.text\n",
    "    elif resp.status_code == 500:\n",
    "        print(resp.text)\n",
    "        return None\n",
    "    elif resp.status_code == 404:\n",
    "        print(\"Debug server is not ready!\")\n",
    "        return None"
   ]
  },
  {
   "cell_type": "code",
   "execution_count": null,
   "metadata": {},
   "outputs": [],
   "source": [
    "run(\n",
    "    '_print_tree()',\n",
    "    'exec'\n",
    ")"
   ]
  }
 ],
 "metadata": {
  "kernelspec": {
   "display_name": "Python 3",
   "language": "python",
   "name": "python3"
  },
  "language_info": {
   "codemirror_mode": {
    "name": "ipython",
    "version": 3
   },
   "file_extension": ".py",
   "mimetype": "text/x-python",
   "name": "python",
   "nbconvert_exporter": "python",
   "pygments_lexer": "ipython3",
   "version": "3.8.10"
  },
  "orig_nbformat": 4
 },
 "nbformat": 4,
 "nbformat_minor": 2
}
